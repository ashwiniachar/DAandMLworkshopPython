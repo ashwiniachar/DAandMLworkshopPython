{
  "nbformat": 4,
  "nbformat_minor": 0,
  "metadata": {
    "colab": {
      "name": "Day1sessionworkedoutproblems.ipynb",
      "provenance": [],
      "authorship_tag": "ABX9TyOXKxEVKfpKa2Xb4CYWQS0g",
      "include_colab_link": true
    },
    "kernelspec": {
      "name": "python3",
      "display_name": "Python 3"
    }
  },
  "cells": [
    {
      "cell_type": "markdown",
      "metadata": {
        "id": "view-in-github",
        "colab_type": "text"
      },
      "source": [
        "<a href=\"https://colab.research.google.com/github/ashwiniachar/DAandMLworkshopPython/blob/master/Day1sessionworkedoutproblems.ipynb\" target=\"_parent\"><img src=\"https://colab.research.google.com/assets/colab-badge.svg\" alt=\"Open In Colab\"/></a>"
      ]
    },
    {
      "cell_type": "markdown",
      "metadata": {
        "id": "Eqfp9la0XZhV",
        "colab_type": "text"
      },
      "source": [
        "#Day1 session worked out problems\n",
        "\n",
        "\n"
      ]
    },
    {
      "cell_type": "markdown",
      "metadata": {
        "id": "xjGEqZnanvIK",
        "colab_type": "text"
      },
      "source": [
        "#Python Program to Add Two Numbers getting through key board\n"
      ]
    },
    {
      "cell_type": "code",
      "metadata": {
        "id": "lkmDiv1lmyBr",
        "colab_type": "code",
        "outputId": "c945cfe5-cabd-405e-ee11-e98ebc4cf4c4",
        "colab": {
          "base_uri": "https://localhost:8080/",
          "height": 70
        }
      },
      "source": [
        "#Python Program to Add Two Numbers getting through key board\n",
        "\n",
        "# sum of two nos\n",
        "num1 = int(input(\"Enter first no\"))\n",
        "num2 = int(input(\"Enter second no\"))\n",
        "\n",
        "# Adding the two numbers\n",
        "sum = num1 + num2\n",
        "\n",
        "# Display the sum\n",
        "print('The sum of {0} and {1} is {2}'.format(num1, num2, sum))\n"
      ],
      "execution_count": 0,
      "outputs": [
        {
          "output_type": "stream",
          "text": [
            "Enter first no10\n",
            "Enter second no30\n",
            "The sum of 10 and 30 is 40\n"
          ],
          "name": "stdout"
        }
      ]
    },
    {
      "cell_type": "markdown",
      "metadata": {
        "id": "bVI8OQ1XoZQ5",
        "colab_type": "text"
      },
      "source": [
        "# To get year (integer input) from the user"
      ]
    },
    {
      "cell_type": "code",
      "metadata": {
        "id": "ERfC9XQOoLyq",
        "colab_type": "code",
        "outputId": "b727d73b-b9e6-48d1-992a-21c9846f2b21",
        "colab": {
          "base_uri": "https://localhost:8080/",
          "height": 52
        }
      },
      "source": [
        "# To get year (integer input) from the user\n",
        "year = int(input(\"Enter a year: \"))\n",
        "\n",
        "if ((year % 4) == 0 and (year % 100)  != 0) or ((year % 400) == 0):\n",
        "           print(\"{0} is a leap year\".format(year))\n",
        "else:\n",
        "           print(\"{0} is not a leap year\".format(year))\n"
      ],
      "execution_count": 0,
      "outputs": [
        {
          "output_type": "stream",
          "text": [
            "Enter a year: 2000\n",
            "2000 is a leap year\n"
          ],
          "name": "stdout"
        }
      ]
    },
    {
      "cell_type": "markdown",
      "metadata": {
        "id": "UtqQSAbsokj6",
        "colab_type": "text"
      },
      "source": [
        "#Program to generate a random number between 0 and 9"
      ]
    },
    {
      "cell_type": "code",
      "metadata": {
        "id": "hWv_agtBnUlp",
        "colab_type": "code",
        "outputId": "fbc2c396-dffa-4637-eded-11ca2f334ad9",
        "colab": {
          "base_uri": "https://localhost:8080/",
          "height": 35
        }
      },
      "source": [
        "# Program to generate a random number between 0 and 9\n",
        "# import the random module\n",
        "import random\n",
        "print(random.randint(0,9))\n",
        "  \n"
      ],
      "execution_count": 0,
      "outputs": [
        {
          "output_type": "stream",
          "text": [
            "9\n"
          ],
          "name": "stdout"
        }
      ]
    },
    {
      "cell_type": "markdown",
      "metadata": {
        "id": "FfyyRlmXqdPF",
        "colab_type": "text"
      },
      "source": [
        "# To take kilometers from the user, uncomment the code below"
      ]
    },
    {
      "cell_type": "code",
      "metadata": {
        "id": "sxGAwL8_qZJV",
        "colab_type": "code",
        "outputId": "cf8e3339-ba15-41ec-86b0-42d9b6545a2f",
        "colab": {
          "base_uri": "https://localhost:8080/",
          "height": 52
        }
      },
      "source": [
        "# To take kilometers from the user, uncomment the code below\n",
        "kilometers = int(input(\"Enter value in kilometers\"))\n",
        "\n",
        "# conversion factor\n",
        "conv_fac = 0.621371\n",
        "\n",
        "# calculate miles\n",
        "miles = kilometers * conv_fac\n",
        "print('%0.3f kilometers is equal to %0.3f miles' %(kilometers,miles))\n"
      ],
      "execution_count": 0,
      "outputs": [
        {
          "output_type": "stream",
          "text": [
            "Enter value in kilometers5\n",
            "5.000 kilometers is equal to 3.107 miles\n"
          ],
          "name": "stdout"
        }
      ]
    },
    {
      "cell_type": "markdown",
      "metadata": {
        "id": "NIsPwSCXqpEa",
        "colab_type": "text"
      },
      "source": [
        "# Solve the quadratic equation ax**2 + bx + c = 0"
      ]
    },
    {
      "cell_type": "code",
      "metadata": {
        "id": "xcv3ra25qntj",
        "colab_type": "code",
        "outputId": "5e279188-261c-4126-937b-9e6c772ffa2c",
        "colab": {
          "base_uri": "https://localhost:8080/",
          "height": 88
        }
      },
      "source": [
        "# Solve the quadratic equation ax**2 + bx + c = 0\n",
        "# importing  complex math module\n",
        "import cmath\n",
        "\n",
        " # To take coefficient input from the users\n",
        "a = float(input('Enter a: '))\n",
        "b = float(input('Enter b: '))\n",
        "c = float(input('Enter c: '))\n",
        "\n",
        "# calculate the discriminant\n",
        "d = (b**2) - (4*a*c)\n",
        "\n",
        "# find two solutions\n",
        "sol1 = (-b-cmath.sqrt(d))/(2*a)\n",
        "sol2 = (-b+cmath.sqrt(d))/(2*a)\n",
        "\n",
        "print('The solution are {0} and {1}'.format(sol1,sol2))\n"
      ],
      "execution_count": 0,
      "outputs": [
        {
          "output_type": "stream",
          "text": [
            "Enter a: 3\n",
            "Enter b: 2\n",
            "Enter c: 2\n",
            "The solution are (-0.3333333333333333-0.7453559924999299j) and (-0.3333333333333333+0.7453559924999299j)\n"
          ],
          "name": "stdout"
        }
      ]
    },
    {
      "cell_type": "code",
      "metadata": {
        "id": "YLuMAZ-nq6du",
        "colab_type": "code",
        "outputId": "8b3bf75a-531b-4615-d341-0694c3f5f8a1",
        "colab": {
          "base_uri": "https://localhost:8080/",
          "height": 52
        }
      },
      "source": [
        "def test_prime(n):\n",
        "    if (n==1):\n",
        "        return False\n",
        "    elif (n==2):\n",
        "        return True;\n",
        "    else:\n",
        "        for x in range(2,n):\n",
        "            if(n % x==0):\n",
        "                return False\n",
        "        return True\n",
        "no=int(input(\"Enter the number\"))\n",
        "if (test_prime(no)) is True :\n",
        "    print(\" {0} is a prime no\".format(no))\n",
        "else:\n",
        "     print(\" {0} is not a prime no\".format(no))\n"
      ],
      "execution_count": 0,
      "outputs": [
        {
          "output_type": "stream",
          "text": [
            "Enter the number5\n",
            " 5 is a prime no\n"
          ],
          "name": "stdout"
        }
      ]
    },
    {
      "cell_type": "markdown",
      "metadata": {
        "id": "y9AT7bZeYNCw",
        "colab_type": "text"
      },
      "source": [
        "#Python program for calculator"
      ]
    },
    {
      "cell_type": "code",
      "metadata": {
        "id": "DBiNiwUyrqQ2",
        "colab_type": "code",
        "outputId": "0a0c0caa-8322-4b1e-d642-d928fc3f7bb1",
        "colab": {
          "base_uri": "https://localhost:8080/",
          "height": 1000
        }
      },
      "source": [
        " \n",
        "loop = 1 # 1 means loop; anything else means don't loop.\n",
        "choice = 0 # This variable holds the user's choice in the menu\n",
        "\n",
        "def add(a,b):\n",
        "    return a+b \n",
        "def sub(a,b):\n",
        "    return a-b\n",
        "def mul(a,b):\n",
        "    return a*b\n",
        "def div(a,b):\n",
        "    return a/b\n",
        "\n",
        "while loop == 1:\n",
        "    # Print what options you have\n",
        "    print (\"Welcome to calculator.py\")\n",
        "    print (\"your options are:\")\n",
        "    print (\" \")\n",
        "    print(\"1) Addition\")\n",
        "    print(\"2) Subtraction\")\n",
        "    print(\"3) Multiplication\")\n",
        "    print(\"4) Division\")\n",
        "    print(\"5) Quit calculator.py\")\n",
        "    print(\" \")\n",
        "    try:\n",
        "        choice = int(input(\"Choose your option: \"))\n",
        "    except:\n",
        "        print('please enter a valid number for option')\n",
        "    print(\" \")\n",
        "    print(\" \")\n",
        "    if choice == 1:\n",
        "        x = int(input(\"Enter 1st no: \"))\n",
        "        y = int(input(\"Enter 2nd no: \"))\n",
        "        print(\"The answer is \",add(x,y))\n",
        "\n",
        "    elif choice == 2:\n",
        "        x = int(input(\"Enter 1st no: \"))\n",
        "        y = int(input(\"Enter 2nd no: \"))\n",
        "        print(\"answer is \",sub(x,y))\n",
        "  \n",
        "    elif choice == 3:\n",
        "        x = int(input(\"Enter 1st no: \"))\n",
        "        y = int(input(\"Enter 2nd no: \"))\n",
        "        print(\"answer is \",mul(x,y))\n",
        "\n",
        "    elif choice == 4:\n",
        "        x = int(input(\"Enter 1st no: \"))\n",
        "        y = int(input(\"Enter 2nd no: \"))\n",
        "        print(\"answer is \",div(x,y))\n",
        "        \n",
        "    elif choice == 5:\n",
        "        loop = 0\n",
        "     \n",
        "    else:\n",
        "        print(\"please choice a valid option from 1 to 5\")\n",
        "        choice=0\n",
        "print (\"Thank-you for using calculator.py!\")"
      ],
      "execution_count": 1,
      "outputs": [
        {
          "output_type": "stream",
          "text": [
            "Welcome to calculator.py\n",
            "your options are:\n",
            " \n",
            "1) Addition\n",
            "2) Subtraction\n",
            "3) Multiplication\n",
            "4) Division\n",
            "5) Quit calculator.py\n",
            " \n",
            "Choose your option: 1\n",
            " \n",
            " \n",
            "Enter 1st no: 2\n",
            "Enter 2nd no: 3\n",
            "The answer is  5\n",
            "Welcome to calculator.py\n",
            "your options are:\n",
            " \n",
            "1) Addition\n",
            "2) Subtraction\n",
            "3) Multiplication\n",
            "4) Division\n",
            "5) Quit calculator.py\n",
            " \n",
            "Choose your option: 2\n",
            " \n",
            " \n",
            "Enter 1st no: 2\n",
            "Enter 2nd no: 1\n",
            "answer is  1\n",
            "Welcome to calculator.py\n",
            "your options are:\n",
            " \n",
            "1) Addition\n",
            "2) Subtraction\n",
            "3) Multiplication\n",
            "4) Division\n",
            "5) Quit calculator.py\n",
            " \n",
            "Choose your option: 3\n",
            " \n",
            " \n",
            "Enter 1st no: 3\n",
            "Enter 2nd no: 4\n",
            "answer is  12\n",
            "Welcome to calculator.py\n",
            "your options are:\n",
            " \n",
            "1) Addition\n",
            "2) Subtraction\n",
            "3) Multiplication\n",
            "4) Division\n",
            "5) Quit calculator.py\n",
            " \n",
            "Choose your option: 4\n",
            " \n",
            " \n",
            "Enter 1st no: 4\n",
            "Enter 2nd no: 2\n",
            "answer is  2.0\n",
            "Welcome to calculator.py\n",
            "your options are:\n",
            " \n",
            "1) Addition\n",
            "2) Subtraction\n",
            "3) Multiplication\n",
            "4) Division\n",
            "5) Quit calculator.py\n",
            " \n",
            "Choose your option: 5\n",
            " \n",
            " \n",
            "Thank-you for using calculator.py!\n"
          ],
          "name": "stdout"
        }
      ]
    }
  ]
}