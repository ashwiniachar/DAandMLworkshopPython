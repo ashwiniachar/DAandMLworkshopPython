{
  "nbformat": 4,
  "nbformat_minor": 0,
  "metadata": {
    "colab": {
      "name": "Day1exercise.ipynb",
      "provenance": [],
      "collapsed_sections": [],
      "authorship_tag": "ABX9TyMcwBk+LMFUsHUJbwxxK7Pt",
      "include_colab_link": true
    },
    "kernelspec": {
      "name": "python3",
      "display_name": "Python 3"
    }
  },
  "cells": [
    {
      "cell_type": "markdown",
      "metadata": {
        "id": "view-in-github",
        "colab_type": "text"
      },
      "source": [
        "<a href=\"https://colab.research.google.com/github/ashwiniachar/DAandMLworkshopPython/blob/master/Day1exercise.ipynb\" target=\"_parent\"><img src=\"https://colab.research.google.com/assets/colab-badge.svg\" alt=\"Open In Colab\"/></a>"
      ]
    },
    {
      "cell_type": "markdown",
      "metadata": {
        "id": "SUdhNJ1Wcy9f",
        "colab_type": "text"
      },
      "source": [
        "#Day1 Session Example"
      ]
    },
    {
      "cell_type": "markdown",
      "metadata": {
        "id": "1zW4fUFrcsbS",
        "colab_type": "text"
      },
      "source": [
        "#1.\tFind the compound interest for the given p,n,r  (formula : p(1+n*r/100)n )"
      ]
    },
    {
      "cell_type": "code",
      "metadata": {
        "id": "kVLX-J-ma4j8",
        "colab_type": "code",
        "outputId": "ca54b0da-1032-4043-a735-db6325a22ba2",
        "colab": {
          "base_uri": "https://localhost:8080/",
          "height": 88
        }
      },
      "source": [
        "n=int(input(\"Enter n\"))\n",
        "p=int(input(\"Enter p\"))\n",
        "r=int(input(\"Enter r\"))\n",
        "ci=(p*(1+n*r/100))**n\n",
        "print('compound interset={0}'.format(ci))\n"
      ],
      "execution_count": 0,
      "outputs": [
        {
          "output_type": "stream",
          "text": [
            "Enter n2\n",
            "Enter p100\n",
            "Enter r2\n",
            "compound interset=10816.0\n"
          ],
          "name": "stdout"
        }
      ]
    },
    {
      "cell_type": "markdown",
      "metadata": {
        "id": "cmXctAjnfQzd",
        "colab_type": "text"
      },
      "source": [
        "#2.\tConvert centegrade to farenheit  ( f= 9/5*c+32)"
      ]
    },
    {
      "cell_type": "code",
      "metadata": {
        "id": "KvAs46tYdALq",
        "colab_type": "code",
        "outputId": "10fb5c79-8eea-4dad-c825-39b0adbd0b42",
        "colab": {
          "base_uri": "https://localhost:8080/",
          "height": 52
        }
      },
      "source": [
        "c=float(input(\"Enter a centigrade to be converted\"))\n",
        "f=(9/5)*c+32\n",
        "print('%0.3f celsius is=%0.3f fareinheit '%(c,f))"
      ],
      "execution_count": 0,
      "outputs": [
        {
          "output_type": "stream",
          "text": [
            "Enter a centigrade to be converted23.3\n",
            "23.300 celsius is=73.940 fareinheit \n"
          ],
          "name": "stdout"
        }
      ]
    },
    {
      "cell_type": "code",
      "metadata": {
        "id": "Altb1TcBfqdz",
        "colab_type": "code",
        "outputId": "f44b45ba-0e08-4beb-ebdc-2fcfe6c2a593",
        "colab": {
          "base_uri": "https://localhost:8080/",
          "height": 70
        }
      },
      "source": [
        "num1=int(input(\"Enter num1 \"))\n",
        "num2=int(input(\"Enter num2 \"))\n",
        "if(num1>num2):\n",
        "  print(\"Greatest number is {0}\".format(num1))\n",
        "elif(num1==num2):\n",
        "  print(\"Both numbers are equal\")\n",
        "else:\n",
        "  print(\"Greatest number is {0}\".format(num2))\n"
      ],
      "execution_count": 0,
      "outputs": [
        {
          "output_type": "stream",
          "text": [
            "Enter num1 3\n",
            "Enter num2 4\n",
            "Greatest number is 4\n"
          ],
          "name": "stdout"
        }
      ]
    },
    {
      "cell_type": "markdown",
      "metadata": {
        "id": "pg2mbkvGMVuz",
        "colab_type": "text"
      },
      "source": [
        "#4.\tWrite a program for finding surface areas of cylinder and cone (2*PI*r*r*h, 1/3*PI*r*r*h) using function."
      ]
    },
    {
      "cell_type": "code",
      "metadata": {
        "id": "qCLxFjRxkQfU",
        "colab_type": "code",
        "colab": {
          "base_uri": "https://localhost:8080/",
          "height": 124
        },
        "outputId": "008c9034-1271-404c-b4ac-20870a47d923"
      },
      "source": [
        "PI=3.14\n",
        "def cylinder(r,h):\n",
        "  return 2*PI*r*r*h\n",
        "def cone(r1,h1):\n",
        "  return 1/3*PI*r1*r1*h1\n",
        "r=int(input(\"Enter a radius of cylinder\"))\n",
        "h=int(input(\"Enter a height of a cylinder\"))\n",
        "print(\"Surface area of cylinder is \",cylinder(r,h))\n",
        "r1=int(input(\"Enter a radius of cone\"))\n",
        "h1=int(input(\"Enter a height of a cone\"))\n",
        "print(\"Surface area of cylinder is \",cone(r1,h1))\n"
      ],
      "execution_count": 3,
      "outputs": [
        {
          "output_type": "stream",
          "text": [
            "Enter a radius of cylinder4\n",
            "Enter a height of a cylinder5\n",
            "Surface area of cylinder is  502.40000000000003\n",
            "Enter a radius of cone3\n",
            "Enter a height of a cone2\n",
            "Surface area of cylinder is  18.839999999999996\n"
          ],
          "name": "stdout"
        }
      ]
    },
    {
      "cell_type": "code",
      "metadata": {
        "id": "g7sXMmzlMjUo",
        "colab_type": "code",
        "colab": {
          "base_uri": "https://localhost:8080/",
          "height": 106
        },
        "outputId": "91464426-2362-48e3-8e38-64b93912c902"
      },
      "source": [
        "def great(a,b,c,d):\n",
        "  if(a>b and a>c and a>d):\n",
        "    print(a,\"is greatest number\")\n",
        "  elif(b>c and b>d):\n",
        "    print(b,\"is greatest number\")\n",
        "  elif(c>d):\n",
        "    print(c,\"is greatest number\")\n",
        "  else:\n",
        "    print(d,\"is greatest number\")\n",
        "a=int(input(\"enter a value\"))\n",
        "b=int(input(\"enter b value\"))\n",
        "c=int(input(\"enter c value\"))\n",
        "d=int(input(\"Enter d value\"))\n",
        "great(a,b,c,d)\n"
      ],
      "execution_count": 4,
      "outputs": [
        {
          "output_type": "stream",
          "text": [
            "enter a value4\n",
            "enter b value5\n",
            "enter c value4\n",
            "Enter d value67\n",
            "67 is greatest number\n"
          ],
          "name": "stdout"
        }
      ]
    },
    {
      "cell_type": "code",
      "metadata": {
        "id": "YaDFyb5OM3n4",
        "colab_type": "code",
        "colab": {
          "base_uri": "https://localhost:8080/",
          "height": 1000
        },
        "outputId": "078596a4-dfc1-4362-ffb6-f26dad739ea3"
      },
      "source": [
        "loop = 1 # 1 means loop; anything else means don't loop.\n",
        "choice = 0 # This variable holds the user's choice in the menu\n",
        "\n",
        "def ODDorEven(a):\n",
        "  if(a%2==0):\n",
        "    print(\"even\");\n",
        "  else:\n",
        "    print(\"odd\")\n",
        "\n",
        "def Factorial(a):\n",
        "  fact=1\n",
        "  while(a>0):\n",
        "    fact=fact*a\n",
        "    a=a-1\n",
        "  print(\"factorial of a number is\",fact)\n",
        "\n",
        "def ODDNoUptoN(a):\n",
        "  for i in range(1,a+1,2):\n",
        "    print(i)\n",
        "\n",
        "def PrimeUptoN (a):\n",
        "  for num in range(1,a+1):\n",
        "    if num > 1:  \n",
        "       for i in range(2,num):  \n",
        "           if (num % i) == 0:  \n",
        "               break  \n",
        "       else:  \n",
        "           print(num)  \n",
        " \n",
        "\n",
        "while loop == 1:\n",
        "    # Print what options you have\n",
        "    print (\"your options are:\")\n",
        "    print (\" \")\n",
        "    print(\"1) ODDorEven\")\n",
        "    print(\"2) Factorial\")\n",
        "    print(\"3) ODDNoUptoN\")\n",
        "    print(\"4) PrimeUptoN\")\n",
        "    print(\"5) Quit\")\n",
        "    print(\" \")\n",
        "    try:\n",
        "        choice = int(input(\"Choose your option: \"))\n",
        "    except:\n",
        "        print('please enter a valid number for option')\n",
        "    print(\" \")\n",
        "    print(\" \")\n",
        "    if choice == 1:\n",
        "        x = int(input(\"Enter a number to check even or odd\"))\n",
        "        ODDorEven(x)\n",
        "\n",
        "    elif choice == 2:\n",
        "        x = int(input(\"Enter a number to find factorial\"))\n",
        "        Factorial(x)\n",
        "      \n",
        "    elif choice == 3:\n",
        "        x = int(input(\"Enter a number: \"))\n",
        "        ODDNoUptoN(x)\n",
        "        \n",
        "\n",
        "    elif choice == 4:\n",
        "        x = int(input(\"Enter a number: \"))\n",
        "        PrimeUptoN(x)\n",
        "        \n",
        "        \n",
        "        \n",
        "    elif choice == 5:\n",
        "        loop = 0\n",
        "     \n",
        "    else:\n",
        "        print(\"please choice a valid option from 1 to 5\")\n",
        "        choice=0\n",
        "print (\"Thank-you !\")\n",
        "\n"
      ],
      "execution_count": 12,
      "outputs": [
        {
          "output_type": "stream",
          "text": [
            "your options are:\n",
            " \n",
            "1) ODDorEven\n",
            "2) Factorial\n",
            "3) ODDNoUptoN\n",
            "4) PrimeUptoN\n",
            "5) Quit\n",
            " \n",
            "Choose your option: 1\n",
            " \n",
            " \n",
            "Enter a number to check even or odd4\n",
            "even\n",
            "your options are:\n",
            " \n",
            "1) ODDorEven\n",
            "2) Factorial\n",
            "3) ODDNoUptoN\n",
            "4) PrimeUptoN\n",
            "5) Quit\n",
            " \n",
            "Choose your option: 2\n",
            " \n",
            " \n",
            "Enter a number to find factorial5\n",
            "factorial of a number is 120\n",
            "your options are:\n",
            " \n",
            "1) ODDorEven\n",
            "2) Factorial\n",
            "3) ODDNoUptoN\n",
            "4) PrimeUptoN\n",
            "5) Quit\n",
            " \n",
            "Choose your option: 3\n",
            " \n",
            " \n",
            "Enter a number: 6\n",
            "1\n",
            "3\n",
            "5\n",
            "your options are:\n",
            " \n",
            "1) ODDorEven\n",
            "2) Factorial\n",
            "3) ODDNoUptoN\n",
            "4) PrimeUptoN\n",
            "5) Quit\n",
            " \n",
            "Choose your option: 4\n",
            " \n",
            " \n",
            "Enter a number: 15\n",
            "2\n",
            "3\n",
            "5\n",
            "7\n",
            "11\n",
            "13\n",
            "your options are:\n",
            " \n",
            "1) ODDorEven\n",
            "2) Factorial\n",
            "3) ODDNoUptoN\n",
            "4) PrimeUptoN\n",
            "5) Quit\n",
            " \n",
            "Choose your option: 5\n",
            " \n",
            " \n",
            "Thank-you !\n"
          ],
          "name": "stdout"
        }
      ]
    },
    {
      "cell_type": "code",
      "metadata": {
        "id": "gSlGzS-mM9f_",
        "colab_type": "code",
        "colab": {}
      },
      "source": [
        ""
      ],
      "execution_count": 0,
      "outputs": []
    }
  ]
}